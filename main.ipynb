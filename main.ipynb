{
 "cells": [
  {
   "cell_type": "code",
   "outputs": [],
   "source": [
    "from api import *\n",
    "from dxlink import *\n",
    "import asyncio"
   ],
   "metadata": {
    "collapsed": false,
    "ExecuteTime": {
     "end_time": "2024-03-26T13:34:48.893950Z",
     "start_time": "2024-03-26T13:34:48.802854Z"
    }
   },
   "id": "54db6e9303376739",
   "execution_count": 1
  },
  {
   "cell_type": "code",
   "outputs": [
    {
     "name": "stdout",
     "output_type": "stream",
     "text": [
      "Logged in {'email': 'warren.ch.jin@gmail.com', 'username': 'jinpro', 'external-id': 'U381eb9d6-3ad1-4e0f-9614-7f92d4f3273e'}\n",
      "wss://tasty-openapi-ws.dxfeed.com/realtime\n",
      "dxlink connect\n",
      "['__annotations__', '__class__', '__delattr__', '__dict__', '__dir__', '__doc__', '__eq__', '__format__', '__ge__', '__getattribute__', '__getstate__', '__gt__', '__hash__', '__init__', '__init_subclass__', '__le__', '__lt__', '__module__', '__ne__', '__new__', '__reduce__', '__reduce_ex__', '__repr__', '__setattr__', '__sizeof__', '__str__', '__subclasshook__', '__weakref__', 'auth_state', 'auth_token', 'connect', 'socket', 'url', 'user_id']\n"
     ]
    },
    {
     "ename": "AttributeError",
     "evalue": "'DXLink' object has no attribute 'send'",
     "output_type": "error",
     "traceback": [
      "\u001B[1;31m---------------------------------------------------------------------------\u001B[0m",
      "\u001B[1;31mAttributeError\u001B[0m                            Traceback (most recent call last)",
      "Cell \u001B[1;32mIn[13], line 19\u001B[0m\n\u001B[0;32m      7\u001B[0m data \u001B[38;5;241m=\u001B[39m {\u001B[38;5;124m\"\u001B[39m\u001B[38;5;124mdata\u001B[39m\u001B[38;5;124m\"\u001B[39m: \n\u001B[0;32m      8\u001B[0m             {\n\u001B[0;32m      9\u001B[0m                 \u001B[38;5;124m\"\u001B[39m\u001B[38;5;124mitems\u001B[39m\u001B[38;5;124m\"\u001B[39m: [\n\u001B[1;32m   (...)\u001B[0m\n\u001B[0;32m     16\u001B[0m             }\n\u001B[0;32m     17\u001B[0m         }\n\u001B[0;32m     18\u001B[0m \u001B[38;5;28mprint\u001B[39m(\u001B[38;5;28mdir\u001B[39m(stream))\n\u001B[1;32m---> 19\u001B[0m \u001B[43mstream\u001B[49m\u001B[38;5;241;43m.\u001B[39;49m\u001B[43msend\u001B[49m(data)\n",
      "\u001B[1;31mAttributeError\u001B[0m: 'DXLink' object has no attribute 'send'"
     ]
    }
   ],
   "source": [
    "config = Config(prod=False)\n",
    "session = API(config)\n",
    "session.login()\n",
    "print(\"Logged in\", session.user_data)\n",
    "session.get_dxlink()\n",
    "stream = DXLink(url = session.dxlink_url, auth_token= session.dxlink_token)\n",
    "data = {\"data\": \n",
    "            {\n",
    "                \"items\": [\n",
    "                    {\n",
    "                        \"symbol\": \"/6AM3\",\n",
    "                        \"streamer-exchange-code\": \"XCME\",\n",
    "                        \"streamer-symbol\": \"/6AM23:XCME\"\n",
    "                    }\n",
    "                ]\n",
    "            }\n",
    "        }\n",
    "print(dir(stream))\n",
    "stream.send(data)"
   ],
   "metadata": {
    "collapsed": false,
    "ExecuteTime": {
     "end_time": "2024-03-26T14:19:43.886496Z",
     "start_time": "2024-03-26T14:19:41.349873Z"
    }
   },
   "id": "5001099992b6e3c1",
   "execution_count": 13
  }
 ],
 "metadata": {
  "kernelspec": {
   "display_name": "Python 3",
   "language": "python",
   "name": "python3"
  },
  "language_info": {
   "codemirror_mode": {
    "name": "ipython",
    "version": 2
   },
   "file_extension": ".py",
   "mimetype": "text/x-python",
   "name": "python",
   "nbconvert_exporter": "python",
   "pygments_lexer": "ipython2",
   "version": "2.7.6"
  }
 },
 "nbformat": 4,
 "nbformat_minor": 5
}
