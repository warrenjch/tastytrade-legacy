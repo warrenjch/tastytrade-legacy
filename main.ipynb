{
 "cells": [
  {
   "cell_type": "code",
   "outputs": [],
   "source": [
    "import json\n",
    "import requests"
   ],
   "metadata": {
    "collapsed": false,
    "ExecuteTime": {
     "end_time": "2024-03-24T12:40:15.152299Z",
     "start_time": "2024-03-24T12:40:15.149499Z"
    }
   },
   "id": "54db6e9303376739",
   "execution_count": 6
  },
  {
   "cell_type": "code",
   "outputs": [],
   "source": [
    "class API:\n",
    "    session_token: str = None\n",
    "    remember_token: str = None\n",
    "    dxlink_token: str = None\n",
    "    headers: dict = {}\n",
    "    user_data: dict = {}\n",
    "    \n",
    "    def __init__(self, config):\n",
    "        self.headers[\"Content-Type\"] = \"application/json\"\n",
    "        self.headers[\"Accept\"] = \"application/json\"\n",
    "        self.config = config\n",
    "        self.url = self.config.url\n",
    "        \n",
    "    def post(self, endpoint: str = None, body: dict = None, headers: dict = None) -> requests.Response:\n",
    "        if headers is None:\n",
    "            headers = self.headers\n",
    "        response = requests.post(self.url + endpoint, data=json.dumps(body), headers=headers)\n",
    "        if response.status_code == 201:\n",
    "            return response.json()\n",
    "        else:\n",
    "            print(f\"Error {response.status_code}\")\n",
    "            print(f\"Endpoint: {endpoint}\")\n",
    "            print(f\"Body: {body}\")\n",
    "            print(f\"Headers: {headers}\")\n",
    "            print(f\"Response: {response.text}\")\n",
    "            return None\n",
    "        \n",
    "    def get(self, endpoint: str = None, body: dict = {}, headers: dict = None, params: dict = None) -> requests.Response:\n",
    "        if headers is None:\n",
    "            headers = self.headers\n",
    "        response = requests.get(self.url + endpoint, data=json.dumps(body), headers=headers, params=params)\n",
    "        if response.status_code == 200:\n",
    "            return response.json()\n",
    "        else:\n",
    "            print(f\"Error {response.status_code}\")\n",
    "            print(f\"Endpoint: {endpoint}\")\n",
    "            print(f\"Body: {body}\")\n",
    "            print(f\"Headers: {headers}\")\n",
    "            print(f\"Response: {response.text}\")\n",
    "            return None\n",
    "    \n",
    "    def delete(self, endpoint: str = None, body: dict = {}, headers: dict = None) -> requests.Response:\n",
    "        if headers is None:\n",
    "            headers = self.headers\n",
    "        response = requests.delete(self.url + endpoint, data=json.dumps(body), headers=headers)\n",
    "        if response.status_code == 204:\n",
    "            return response\n",
    "        else:\n",
    "            print(f\"Error {response.status_code}\")\n",
    "            print(f\"Endpoint: {endpoint}\")\n",
    "            print(f\"Body: {body}\")\n",
    "            print(f\"Headers: {headers}\")\n",
    "            print(f\"Response: {response.text}\")\n",
    "            return None\n",
    "        \n",
    "    def login(self):\n",
    "        body = {\n",
    "            \"login\": config.data[\"personal-data\"][\"login\"],\n",
    "            \"password\": config.data[\"personal-data\"][\"password\"],\n",
    "            \"remember-me\": True\n",
    "        }\n",
    "        response = self.post(endpoint=\"/sessions\", body=body)\n",
    "        if response is None:\n",
    "            raise Exception(\"Could not login\")\n",
    "        else:\n",
    "            self.user_data = response[\"data\"][\"user\"]\n",
    "            self.session_token = response[\"data\"][\"session-token\"]\n",
    "            self.headers[\"Authorization\"] = self.session_token\n",
    "    \n",
    "    def logout(self):\n",
    "        self.delete(\"/sessions\")\n",
    "    \n",
    "    def get_dxlink(self):\n",
    "        response = self.get(endpoint=\"/api-quote-tokens\")\n",
    "        if response is None:\n",
    "            raise Exception(\"Could not get dxlink tokens\")\n",
    "        else:\n",
    "            self.dxlink_token = response[\"data\"][\"token\"]\n",
    "            self.dxlink_url = response[\"data\"][\"dxlink-url\"]\n",
    "            print(self.dxlink_url)\n",
    "        \n",
    "class Config:\n",
    "    url: str = None\n",
    "    \n",
    "    def __init__(self, prod: bool = False):\n",
    "        with open(\"config.json\") as f:\n",
    "            self.data = json.load(f)\n",
    "        if prod == False:\n",
    "            self.url = self.data[\"api-info\"][\"cert\"]\n",
    "        else:\n",
    "            self.url = self.data[\"api-info\"][\"prod\"]"
   ],
   "metadata": {
    "collapsed": false,
    "ExecuteTime": {
     "end_time": "2024-03-24T12:42:15.445100Z",
     "start_time": "2024-03-24T12:42:15.439059Z"
    }
   },
   "id": "907199b66c4360a4",
   "execution_count": 10
  },
  {
   "cell_type": "code",
   "outputs": [
    {
     "name": "stdout",
     "output_type": "stream",
     "text": [
      "{'email': 'warren.ch.jin@gmail.com', 'username': 'jinpro', 'external-id': 'U381eb9d6-3ad1-4e0f-9614-7f92d4f3273e'}\n",
      "jvLtYTE7iODgWHpyrfmC82Uo9sfY6QHdD6TZNmJetbaLYpN7th3-ew+C\n"
     ]
    }
   ],
   "source": [
    "config = Config(prod=False)\n",
    "session = API(config)\n",
    "session.login()"
   ],
   "metadata": {
    "collapsed": false,
    "ExecuteTime": {
     "end_time": "2024-03-24T12:42:20.073386Z",
     "start_time": "2024-03-24T12:42:17.431582Z"
    }
   },
   "id": "5001099992b6e3c1",
   "execution_count": 11
  }
 ],
 "metadata": {
  "kernelspec": {
   "display_name": "Python 3",
   "language": "python",
   "name": "python3"
  },
  "language_info": {
   "codemirror_mode": {
    "name": "ipython",
    "version": 2
   },
   "file_extension": ".py",
   "mimetype": "text/x-python",
   "name": "python",
   "nbconvert_exporter": "python",
   "pygments_lexer": "ipython2",
   "version": "2.7.6"
  }
 },
 "nbformat": 4,
 "nbformat_minor": 5
}
