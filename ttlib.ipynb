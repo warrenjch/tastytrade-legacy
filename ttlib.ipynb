{
 "cells": [
  {
   "cell_type": "code",
   "execution_count": 3,
   "id": "initial_id",
   "metadata": {
    "collapsed": true,
    "ExecuteTime": {
     "end_time": "2024-07-22T09:52:48.072282Z",
     "start_time": "2024-07-22T09:52:47.119724Z"
    }
   },
   "outputs": [],
   "source": [
    "#gave up and used tastytrade api wrapper\n",
    "import tastytrade\n",
    "from api import Config\n",
    "from auxiliary import *\n",
    "import numpy as np\n",
    "import pandas as pd\n",
    "import asyncio\n",
    "from datetime import datetime, date, time, timedelta\n",
    "import matplotlib.pyplot as plt"
   ]
  },
  {
   "cell_type": "code",
   "outputs": [
    {
     "name": "stdout",
     "output_type": "stream",
     "text": [
      "Balance: account_number='5WW12082' cash_balance=Decimal('1001597.728') long_equity_value=Decimal('0.0') short_equity_value=Decimal('0.0') long_derivative_value=Decimal('0.0') short_derivative_value=Decimal('0.0') long_futures_value=Decimal('0.0') short_futures_value=Decimal('0.0') long_futures_derivative_value=Decimal('0.0') short_futures_derivative_value=Decimal('0.0') long_margineable_value=Decimal('0.0') short_margineable_value=Decimal('0.0') margin_equity=Decimal('1001597.728') equity_buying_power=Decimal('1000000000.0') derivative_buying_power=Decimal('500000000.0') day_trading_buying_power=Decimal('0.0') futures_margin_requirement=Decimal('0.0') available_trading_funds=Decimal('0.0') maintenance_requirement=Decimal('0.0') maintenance_call_value=Decimal('0.0') reg_t_call_value=Decimal('0.0') day_trading_call_value=Decimal('0.0') day_equity_call_value=Decimal('0.0') net_liquidating_value=Decimal('1001597.728') cash_available_to_withdraw=Decimal('0.0') day_trade_excess=Decimal('0.0') pending_cash=Decimal('0.0') pending_cash_effect=<PriceEffect.NONE: 'None'> long_cryptocurrency_value=Decimal('0.0') short_cryptocurrency_value=Decimal('0.0') cryptocurrency_margin_requirement=Decimal('0.0') unsettled_cryptocurrency_fiat_amount=Decimal('0.0') unsettled_cryptocurrency_fiat_effect=<PriceEffect.NONE: 'None'> closed_loop_available_balance=Decimal('0.0') equity_offering_margin_requirement=Decimal('0.0') long_bond_value=Decimal('0.0') bond_margin_requirement=Decimal('0.0') snapshot_date=datetime.date(2024, 7, 22) reg_t_margin_requirement=Decimal('0.0') futures_overnight_margin_requirement=Decimal('0.0') futures_intraday_margin_requirement=Decimal('0.0') maintenance_excess=Decimal('500000000.0') pending_margin_interest=Decimal('0.0') effective_cryptocurrency_buying_power=Decimal('0.0') updated_at=datetime.datetime(2024, 7, 18, 0, 6, 8, 712000, tzinfo=datetime.timezone.utc) apex_starting_day_margin_equity=None buying_power_adjustment=None buying_power_adjustment_effect=None time_of_day=None\n",
      "Positions: \n",
      " [CurrentPosition(account_number='5WW12082', symbol='SPY   240719P00559000', instrument_type=<InstrumentType.EQUITY_OPTION: 'Equity Option'>, underlying_symbol='SPY', quantity=Decimal('7'), quantity_direction='Short', close_price=Decimal('0.0'), average_open_price=Decimal('2.01'), multiplier=100, cost_effect='Debit', is_suppressed=False, is_frozen=False, realized_day_gain=Decimal('0.0'), realized_today=Decimal('0.0'), created_at=datetime.datetime(2024, 7, 17, 12, 46, 51, 480000, tzinfo=datetime.timezone.utc), updated_at=datetime.datetime(2024, 7, 17, 13, 17, 12, 632000, tzinfo=datetime.timezone.utc), mark=None, mark_price=None, restricted_quantity=Decimal('0'), expires_at=datetime.datetime(2024, 7, 19, 20, 15, tzinfo=datetime.timezone.utc), fixing_price=None, deliverable_type=None, average_yearly_market_close_price=None, average_daily_market_close_price=None, realized_day_gain_effect=None, realized_day_gain_date=None, realized_today_effect=None, realized_today_date=None), CurrentPosition(account_number='5WW12082', symbol='SPY   240719C00559000', instrument_type=<InstrumentType.EQUITY_OPTION: 'Equity Option'>, underlying_symbol='SPY', quantity=Decimal('7'), quantity_direction='Short', close_price=Decimal('0.0'), average_open_price=Decimal('0.01'), multiplier=100, cost_effect='Debit', is_suppressed=False, is_frozen=False, realized_day_gain=Decimal('0.0'), realized_today=Decimal('0.0'), created_at=datetime.datetime(2024, 7, 17, 12, 46, 51, 573000, tzinfo=datetime.timezone.utc), updated_at=datetime.datetime(2024, 7, 17, 13, 17, 12, 714000, tzinfo=datetime.timezone.utc), mark=None, mark_price=None, restricted_quantity=Decimal('0'), expires_at=datetime.datetime(2024, 7, 19, 20, 15, tzinfo=datetime.timezone.utc), fixing_price=None, deliverable_type=None, average_yearly_market_close_price=None, average_daily_market_close_price=None, realized_day_gain_effect=None, realized_day_gain_date=None, realized_today_effect=None, realized_today_date=None), CurrentPosition(account_number='5WW12082', symbol='SPY   240719P00558000', instrument_type=<InstrumentType.EQUITY_OPTION: 'Equity Option'>, underlying_symbol='SPY', quantity=Decimal('1'), quantity_direction='Short', close_price=Decimal('0.0'), average_open_price=Decimal('2.01'), multiplier=100, cost_effect='Debit', is_suppressed=False, is_frozen=False, realized_day_gain=Decimal('0.0'), realized_today=Decimal('0.0'), created_at=datetime.datetime(2024, 7, 17, 13, 17, 14, 341000, tzinfo=datetime.timezone.utc), updated_at=datetime.datetime(2024, 7, 17, 13, 17, 14, 396000, tzinfo=datetime.timezone.utc), mark=None, mark_price=None, restricted_quantity=Decimal('0'), expires_at=datetime.datetime(2024, 7, 19, 20, 15, tzinfo=datetime.timezone.utc), fixing_price=None, deliverable_type=None, average_yearly_market_close_price=None, average_daily_market_close_price=None, realized_day_gain_effect=None, realized_day_gain_date=None, realized_today_effect=None, realized_today_date=None), CurrentPosition(account_number='5WW12082', symbol='SPY   240719C00558000', instrument_type=<InstrumentType.EQUITY_OPTION: 'Equity Option'>, underlying_symbol='SPY', quantity=Decimal('1'), quantity_direction='Short', close_price=Decimal('0.0'), average_open_price=Decimal('0.01'), multiplier=100, cost_effect='Debit', is_suppressed=False, is_frozen=False, realized_day_gain=Decimal('0.0'), realized_today=Decimal('0.0'), created_at=datetime.datetime(2024, 7, 17, 13, 17, 14, 429000, tzinfo=datetime.timezone.utc), updated_at=datetime.datetime(2024, 7, 17, 13, 17, 14, 448000, tzinfo=datetime.timezone.utc), mark=None, mark_price=None, restricted_quantity=Decimal('0'), expires_at=datetime.datetime(2024, 7, 19, 20, 15, tzinfo=datetime.timezone.utc), fixing_price=None, deliverable_type=None, average_yearly_market_close_price=None, average_daily_market_close_price=None, realized_day_gain_effect=None, realized_day_gain_date=None, realized_today_effect=None, realized_today_date=None)]\n"
     ]
    }
   ],
   "source": [
    "from tastytrade import CertificationSession, Account\n",
    "\n",
    "config = Config(prod=False)\n",
    "session = CertificationSession(config.data[\"personal-data\"][\"login\"],config.data[\"personal-data\"][\"password\"])\n",
    "account = Account.get_account(session, config.account_number)\n",
    "print(\"Balance:\", account.get_balances(session))\n",
    "print(\"Positions: \\n\", account.get_positions(session))"
   ],
   "metadata": {
    "collapsed": false,
    "ExecuteTime": {
     "end_time": "2024-07-22T09:51:17.345649Z",
     "start_time": "2024-07-22T09:51:11.889976Z"
    }
   },
   "id": "952d03505b373cf9",
   "execution_count": 2
  },
  {
   "cell_type": "code",
   "outputs": [
    {
     "ename": "ValidationError",
     "evalue": "13 validation errors for NetLiqOhlc\nopen\n  field required (type=value_error.missing)\nhigh\n  field required (type=value_error.missing)\nlow\n  field required (type=value_error.missing)\nclose\n  field required (type=value_error.missing)\npending-cash-open\n  field required (type=value_error.missing)\npending-cash-high\n  field required (type=value_error.missing)\npending-cash-low\n  field required (type=value_error.missing)\npending-cash-close\n  field required (type=value_error.missing)\ntotal-open\n  field required (type=value_error.missing)\ntotal-high\n  field required (type=value_error.missing)\ntotal-low\n  field required (type=value_error.missing)\ntotal-close\n  field required (type=value_error.missing)\ntime\n  field required (type=value_error.missing)",
     "output_type": "error",
     "traceback": [
      "\u001B[1;31m---------------------------------------------------------------------------\u001B[0m",
      "\u001B[1;31mValidationError\u001B[0m                           Traceback (most recent call last)",
      "Cell \u001B[1;32mIn[9], line 1\u001B[0m\n\u001B[1;32m----> 1\u001B[0m nl \u001B[38;5;241m=\u001B[39m \u001B[43mtastytrade\u001B[49m\u001B[38;5;241;43m.\u001B[39;49m\u001B[43maccount\u001B[49m\u001B[38;5;241;43m.\u001B[39;49m\u001B[43mNetLiqOhlc\u001B[49m\u001B[43m(\u001B[49m\u001B[43m)\u001B[49m\n\u001B[0;32m      2\u001B[0m \u001B[38;5;28mprint\u001B[39m(nl)\n\u001B[0;32m      3\u001B[0m \u001B[38;5;124;03m\"\"\"\u001B[39;00m\n\u001B[0;32m      4\u001B[0m \u001B[38;5;124;03mplt.plot([n.time for n in nl], [n.close for n in nl])\u001B[39;00m\n\u001B[0;32m      5\u001B[0m \u001B[38;5;124;03mplt.show()\"\"\"\u001B[39;00m\n",
      "File \u001B[1;32m~\\AppData\\Roaming\\Python\\Python310\\site-packages\\pydantic\\main.py:341\u001B[0m, in \u001B[0;36mpydantic.main.BaseModel.__init__\u001B[1;34m()\u001B[0m\n",
      "\u001B[1;31mValidationError\u001B[0m: 13 validation errors for NetLiqOhlc\nopen\n  field required (type=value_error.missing)\nhigh\n  field required (type=value_error.missing)\nlow\n  field required (type=value_error.missing)\nclose\n  field required (type=value_error.missing)\npending-cash-open\n  field required (type=value_error.missing)\npending-cash-high\n  field required (type=value_error.missing)\npending-cash-low\n  field required (type=value_error.missing)\npending-cash-close\n  field required (type=value_error.missing)\ntotal-open\n  field required (type=value_error.missing)\ntotal-high\n  field required (type=value_error.missing)\ntotal-low\n  field required (type=value_error.missing)\ntotal-close\n  field required (type=value_error.missing)\ntime\n  field required (type=value_error.missing)"
     ]
    }
   ],
   "source": [
    "# only works in prod\n",
    "nl = account.get_net_liquidating_value_history(session, time_back='1m')\n",
    "plt.plot([n.time for n in nl], [n.close for n in nl])\n",
    "plt.show()"
   ],
   "metadata": {
    "collapsed": false,
    "ExecuteTime": {
     "end_time": "2024-07-22T10:01:03.910161Z",
     "start_time": "2024-07-22T10:01:03.876769Z"
    }
   },
   "id": "982a2ee289f6c5bf",
   "execution_count": 9
  },
  {
   "cell_type": "code",
   "outputs": [],
   "source": [],
   "metadata": {
    "collapsed": false
   },
   "id": "dc50de10090c9ea"
  }
 ],
 "metadata": {
  "kernelspec": {
   "display_name": "Python 3",
   "language": "python",
   "name": "python3"
  },
  "language_info": {
   "codemirror_mode": {
    "name": "ipython",
    "version": 2
   },
   "file_extension": ".py",
   "mimetype": "text/x-python",
   "name": "python",
   "nbconvert_exporter": "python",
   "pygments_lexer": "ipython2",
   "version": "2.7.6"
  }
 },
 "nbformat": 4,
 "nbformat_minor": 5
}
