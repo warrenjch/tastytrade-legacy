{
 "cells": [
  {
   "cell_type": "code",
   "execution_count": 1,
   "id": "initial_id",
   "metadata": {
    "collapsed": true,
    "ExecuteTime": {
     "end_time": "2024-07-08T14:14:24.969037Z",
     "start_time": "2024-07-08T14:14:23.270876Z"
    }
   },
   "outputs": [],
   "source": [
    "from yahooquery import Ticker\n",
    "import pandas as pd\n",
    "from datetime import datetime\n",
    "import math\n",
    "import numpy as np\n",
    "from py_vollib.black_scholes import implied_volatility\n",
    "from py_vollib.black_scholes.greeks.analytical import delta, gamma, vega, theta, rho"
   ]
  },
  {
   "cell_type": "code",
   "outputs": [
    {
     "name": "stdout",
     "output_type": "stream",
     "text": [
      "['contractSymbol', 'strike', 'currency', 'lastPrice', 'change', 'percentChange', 'volume', 'openInterest', 'bid', 'ask', 'contractSize', 'lastTradeDate', 'impliedVolatility', 'inTheMoney']\n"
     ]
    }
   ],
   "source": [
    "'''stocklist = [\n",
    "    \"A\", \"AAL\", \"AAP\", \"AAPL\", \"ABBV\", \"ABC\", \"ABMD\", \"ABT\", \"ACN\", \"ADBE\", \"ADI\", \"ADM\", \"ADP\", \"ADSK\", \"AEE\", \"AEP\", \"AES\", \"AFL\", \"AIG\", \"AIZ\", \"AJG\", \"AKAM\", \"ALB\", \"ALGN\", \"ALK\", \"ALL\", \"ALLE\", \"AMAT\", \"AMCR\", \"AMD\", \"AME\", \"AMGN\", \"AMP\", \"AMT\", \"AMZN\", \"ANET\", \"ANSS\", \"ANTM\", \"AON\", \"AOS\", \"APA\", \"APD\", \"APH\", \"APTV\", \"ARE\", \"ATO\", \"ATVI\", \"AVB\", \"AVGO\", \"AVY\", \"AWK\", \"AXP\", \"AZO\", \"BA\", \"BAC\", \"BAX\", \"BBY\", \"BDX\", \"BEN\", \"BF.B\", \"BIIB\", \"BIO\", \"BK\", \"BKNG\", \"BKR\", \"BLK\", \"BLL\", \"BMY\", \"BR\", \"BRK.B\", \"BSX\", \"BWA\", \"BXP\", \"C\", \"CAG\", \"CAH\", \"CARR\", \"CAT\", \"CB\", \"CBOE\", \"CBRE\", \"CCI\", \"CCL\", \"CDNS\", \"CDW\", \"CE\", \"CERN\", \"CF\", \"CFG\", \"CHD\", \"CHRW\", \"CHTR\", \"CI\", \"CINF\", \"CL\", \"CLX\", \"CMA\", \"CMCSA\", \"CME\", \"CMG\", \"CMI\", \"CMS\", \"CNC\", \"CNP\", \"COF\", \"COG\", \"COO\", \"COP\", \"COST\", \"CPB\", \"CPRT\", \"CRM\", \"CSCO\", \"CSX\", \"CTAS\", \"CTLT\", \"CTSH\", \"CTVA\", \"CTXS\", \"CVS\", \"CVX\", \"CZR\", \"D\", \"DAL\", \"DD\", \"DE\", \"DFS\", \"DG\", \"DGX\", \"DHI\", \"DHR\", \"DIS\", \"DISCA\", \"DISCK\", \"DISH\", \"DLR\", \"DLTR\", \"DOV\", \"DOW\", \"DPZ\", \"DRE\", \"DRI\", \"DTE\", \"DUK\", \"DVA\", \"DVN\", \"DXC\", \"DXCM\", \"EA\", \"EBAY\", \"ECL\", \"ED\", \"EFX\", \"EIX\", \"EL\", \"EMN\", \"EMR\", \"ENPH\", \"EOG\", \"EQIX\", \"EQR\", \"ES\", \"ESS\", \"ETN\", \"ETR\", \"ETSY\", \"EVRG\", \"EW\", \"EXC\", \"EXPD\", \"EXPE\", \"EXR\", \"F\", \"FANG\", \"FAST\", \"FB\", \"FBHS\", \"FCX\", \"FDX\", \"FE\", \"FFIV\", \"FIS\", \"FISV\", \"FITB\", \"FLT\", \"FMC\", \"FOX\", \"FOXA\", \"FRC\", \"FRT\", \"FTNT\", \"FTV\", \"GD\", \"GE\", \"GILD\", \"GIS\", \"GL\", \"GLW\", \"GM\", \"GNRC\", \"GOOG\", \"GOOGL\", \"GPC\", \"GPN\", \"GPS\", \"GRMN\", \"GS\", \"GWW\", \"HAL\", \"HAS\", \"HBAN\", \"HBI\", \"HCA\", \"HD\", \"HES\", \"HIG\", \"HII\", \"HLT\", \"HOLX\", \"HON\", \"HPE\", \"HPQ\", \"HRL\", \"HSIC\", \"HST\", \"HSY\", \"HUM\", \"HWM\", \"IBM\", \"ICE\", \"IDXX\", \"IEX\", \"IFF\", \"ILMN\", \"INCY\", \"INFO\", \"INTC\", \"INTU\", \"IP\", \"IPG\", \"IPGP\", \"IQV\", \"IR\", \"IRM\", \"ISRG\", \"IT\", \"ITW\", \"IVZ\", \"J\", \"JBHT\", \"JCI\", \"JKHY\", \"JNJ\", \"JNPR\", \"JPM\", \"K\", \"KEY\", \"KEYS\", \"KHC\", \"KIM\", \"KLAC\", \"KMB\", \"KMI\", \"KMX\", \"KO\", \"KR\", \"KSU\", \"L\", \"LDOS\", \"LEG\", \"LEN\", \"LH\", \"LHX\", \"LIN\", \"LKQ\", \"LLY\", \"LMT\", \"LNC\", \"LNT\", \"LOW\", \"LRCX\", \"LUMN\", \"LUV\", \"LVS\", \"LW\", \"LYB\", \"LYV\", \"MA\", \"MAA\", \"MAR\", \"MAS\", \"MCD\", \"MCHP\", \"MCK\", \"MCO\", \"MDLZ\", \"MDT\", \"MET\", \"MGM\", \"MHK\", \"MKC\", \"MKTX\", \"MLM\", \"MMC\", \"MMM\", \"MNST\", \"MO\", \"MOS\", \"MPC\", \"MPWR\", \"MRK\", \"MRO\", \"MS\", \"MSCI\", \"MSFT\", \"MSI\", \"MTB\", \"MTD\", \"MU\", \"NCLH\", \"NDAQ\", \"NEE\", \"NEM\", \"NFLX\", \"NI\", \"NKE\", \"NLOK\", \"NLSN\", \"NOC\", \"NOV\", \"NOW\", \"NRG\", \"NSC\", \"NTAP\", \"NTRS\", \"NUE\", \"NVDA\", \"NVR\", \"NWL\", \"NWS\", \"NWSA\", \"NXPI\", \"O\", \"ODFL\", \"OGN\", \"OKE\", \"OMC\", \"ORCL\", \"ORLY\", \"OTIS\", \"OXY\", \"PAYC\", \"PAYX\", \"PBCT\", \"PCAR\", \"PEAK\", \"PEG\", \"PENN\", \"PEP\", \"PFE\", \"PFG\", \"PG\", \"PGR\", \"PH\", \"PHM\", \"PKG\", \"PKI\", \"PLD\", \"PM\", \"PNC\", \"PNR\", \"PNW\", \"POOL\", \"PPG\", \"PPL\", \"PRGO\", \"PRU\", \"PSA\", \"PSX\", \"PTC\", \"PVH\", \"PWR\", \"PXD\", \"PYPL\", \"QCOM\", \"QRVO\", \"RCL\", \"RE\", \"REG\", \"REGN\", \"RF\", \"RHI\", \"RJF\", \"RL\", \"RMD\", \"ROK\", \"ROL\", \"ROP\", \"ROST\", \"RSG\", \"RTX\", \"SBAC\", \"SBUX\", \"SCHW\", \"SEE\", \"SHW\", \"SIVB\", \"SJM\", \"SLB\", \"SNA\", \"SNPS\", \"SO\", \"SPG\", \"SPGI\", \"SRE\", \"STE\", \"STT\", \"STX\", \"STZ\", \"SWK\", \"SWKS\", \"SYF\", \"SYK\", \"SYY\", \"T\", \"TAP\", \"TDG\", \"TDY\", \"TEL\", \"TER\", \"TFC\", \"TFX\", \"TGT\", \"TJX\", \"TMO\", \"TMUS\", \"TPR\", \"TRMB\", \"TROW\", \"TRV\", \"TSCO\", \"TSLA\", \"TSN\", \"TT\", \"TTWO\", \"TXN\", \"TXT\", \"TYL\", \"UA\", \"UAA\", \"UAL\", \"UDR\", \"UHS\", \"ULTA\", \"UNH\", \"UNM\", \"UNP\", \"UPS\", \"URI\", \"USB\", \"V\", \"VFC\", \"VIAC\", \"VLO\", \"VMC\", \"VNO\", \"VRSK\", \"VRSN\", \"VRTX\", \"VTR\", \"VTRS\", \"VZ\", \"WAB\", \"WAT\", \"WBA\", \"WDC\", \"WEC\", \"WELL\", \"WFC\", \"WHR\", \"WLTW\", \"WM\", \"WMB\", \"WMT\", \"WRB\", \"WRK\", \"WST\", \"WU\", \"WY\", \"WYNN\", \"XEL\", \"XLNX\", \"XOM\", \"XRAY\", \"XYL\", \"YUM\", \"ZBH\", \"ZBRA\", \"ZION\", \"ZTS\"\n",
    "]'''\n",
    "stocklist = ['AMD']\n",
    "t = Ticker(stocklist, asynchronous=True)\n",
    "prices = pd.DataFrame(t.price).T\n",
    "chains = t.option_chain\n",
    "#print(prices.columns.tolist())\n",
    "print(chains.columns.tolist())"
   ],
   "metadata": {
    "collapsed": false,
    "ExecuteTime": {
     "end_time": "2024-07-08T14:14:26.277752Z",
     "start_time": "2024-07-08T14:14:24.971411Z"
    }
   },
   "id": "34894a1d7b5de155",
   "execution_count": 2
  },
  {
   "cell_type": "code",
   "outputs": [
    {
     "name": "stdout",
     "output_type": "stream",
     "text": [
      "AMD spot 174.7 atm 175.0 | 11-day 12.25x12.5L12.25 | 18-day 15.25x15.5L15.4 | 1 contract 3.0x3.0L3.15\n",
      "iv front 0.4923 back 0.4847\n",
      "ratio 0.0417 decile 7\n",
      "-----------\n"
     ]
    }
   ],
   "source": [
    "today = datetime.today()\n",
    "fmdte, bmdte = 11, 18\n",
    "r = 0.051\n",
    "\n",
    "#use vollib to get iv direct from lastprice\n",
    "def forward_iv(fmiv, bmiv, fmdte=fmdte, bmdte=bmdte):\n",
    "    if (bmdte*(bmiv)**2 - fmdte*(fmiv)**2) >= 0:\n",
    "        return math.sqrt((bmdte*(bmiv)**2 - fmdte*(fmiv)**2)/(bmdte - fmdte))\n",
    "    else:\n",
    "        return 1e-9\n",
    "def campasano_ratio(fmiv, bmiv, fmdte=fmdte, bmdte=bmdte):\n",
    "    fiv = forward_iv(fmiv, bmiv, fmdte, bmdte)\n",
    "    return fmiv/fiv -1\n",
    "def campasano_deciles(ratio):\n",
    "    markers = [-0.2038,-0.1083,-0.0665,-0.0346,-0.0058,0.0230,0.0558,0.0974,0.1630,0.4157]\n",
    "    return markers.index(min(markers, key=lambda x: abs(x-ratio)))\n",
    "\n",
    "p = prices['regularMarketPrice']\n",
    "optionable = list(chains.index.unique(level=0))\n",
    "for stock in optionable:\n",
    "    try:\n",
    "        sym = chains.xs(stock, level='symbol', drop_level=False)\n",
    "        dates = sym.index.unique(level=1).to_series()\n",
    "        dte = dates.apply(lambda x: (x - today).days)\n",
    "        fm = dte.index[(dte-fmdte).abs().argsort().iloc[0]]\n",
    "        bm = dte.index[(dte-bmdte).abs().argsort().iloc[0]]\n",
    "        rfmdte, rbmdte = (fm.date()-today.date()).days, (bm.date()-today.date()).days\n",
    "        spot = p[stock]\n",
    "        fmchain = sym.xs(fm, level='expiration', drop_level=False)\n",
    "        bmchain = sym.xs(bm, level='expiration', drop_level=False)\n",
    "        strikes = bmchain.loc[(stock,bm,'calls'), ['strike']].squeeze()\n",
    "        atm = strikes.iloc[(strikes-spot).abs().argsort().iloc[0]]\n",
    "        fmbb = round(fmchain.loc[fmchain['strike']==atm]['bid'].sum(),4)\n",
    "        fmba = round(fmchain.loc[fmchain['strike']==atm]['ask'].sum(),4)\n",
    "        fmlp = round(fmchain.loc[fmchain['strike']==atm]['lastPrice'].sum(),4)\n",
    "        if (fmbb == 0 or fmba == 0) and fmlp != 0:\n",
    "            clp = (fmlp + spot - atm * math.exp(-r*fmdte/365))/2\n",
    "            plp = fmlp - clp\n",
    "            fmiv = implied_volatility.implied_volatility(clp,spot,atm,fmdte/365,r,'c') + implied_volatility.implied_volatility(plp,spot,atm,fmdte/365,r,'p')\n",
    "        else:\n",
    "            fmiv = fmchain.loc[fmchain['strike']==atm]['impliedVolatility'].mean()\n",
    "        bmbb = round(bmchain.loc[bmchain['strike']==atm]['bid'].sum(),4)\n",
    "        bmba = round(bmchain.loc[bmchain['strike']==atm]['ask'].sum(),4)\n",
    "        bmlp = round(bmchain.loc[bmchain['strike']==atm]['lastPrice'].sum(),4)\n",
    "        if (bmbb == 0 or bmba == 0) and bmlp != 0:\n",
    "            clp = (bmlp + spot - atm * math.exp(-r*bmdte/365))/2\n",
    "            plp = bmlp - clp\n",
    "            bmiv = implied_volatility.implied_volatility(clp,spot,atm,bmdte/365,r,'c') + implied_volatility.implied_volatility(plp,spot,atm,bmdte/365,r,'p')\n",
    "        else:\n",
    "            bmiv = bmchain.loc[bmchain['strike']==atm]['impliedVolatility'].mean()\n",
    "    except Exception as e:\n",
    "        print(f'sum ting wong with {stock}')\n",
    "        print(e)\n",
    "        print('-----------')\n",
    "        continue\n",
    "    if True or (fmba-fmbb <= 0.3 and bmba-bmbb <= 0.3 and not np.nan in [fmbb, fmba, fmiv, bmbb, bmba, bmiv]):\n",
    "        print(f'{stock} spot {spot} atm {atm} | {rfmdte}-day {fmbb}x{fmba}L{fmlp} | {rbmdte}-day {bmbb}x{bmba}L{bmlp} | 1 contract {round(bmbb-fmbb,4)}x{round(bmba-fmba,4)}L{round(bmlp-fmlp,4)}')\n",
    "        print(f'iv front {round(fmiv,4)} back {round(bmiv,4)}')\n",
    "        if forward_iv(fmiv,bmiv,fmdte,bmdte) == 1e-9:\n",
    "            print('front month mid vol at arbitrage level')\n",
    "        cr = campasano_ratio(fmiv, bmiv)\n",
    "        cd = campasano_deciles(cr)+1\n",
    "        print(f'ratio {round(cr,5)} decile {cd}')\n",
    "        print('-----------')\n",
    "    \n",
    "\n",
    "print('')"
   ],
   "metadata": {
    "collapsed": false,
    "ExecuteTime": {
     "end_time": "2024-07-08T14:14:44.051118Z",
     "start_time": "2024-07-08T14:14:44.012047Z"
    }
   },
   "id": "748d999b00154e55",
   "execution_count": 4
  }
 ],
 "metadata": {
  "kernelspec": {
   "display_name": "Python 3",
   "language": "python",
   "name": "python3"
  },
  "language_info": {
   "codemirror_mode": {
    "name": "ipython",
    "version": 2
   },
   "file_extension": ".py",
   "mimetype": "text/x-python",
   "name": "python",
   "nbconvert_exporter": "python",
   "pygments_lexer": "ipython2",
   "version": "2.7.6"
  }
 },
 "nbformat": 4,
 "nbformat_minor": 5
}
